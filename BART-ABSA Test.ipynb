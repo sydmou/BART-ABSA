{
  "nbformat": 4,
  "nbformat_minor": 0,
  "metadata": {
    "colab": {
      "name": "Untitled1.ipynb",
      "provenance": [],
      "mount_file_id": "1lMe7x1Nu3vgW4e5gJdBriirWKLsmMhLx",
      "authorship_tag": "ABX9TyNpzxzWdox3E70UclqgrWDb",
      "include_colab_link": true
    },
    "kernelspec": {
      "name": "python3",
      "display_name": "Python 3"
    },
    "language_info": {
      "name": "python"
    },
    "accelerator": "GPU"
  },
  "cells": [
    {
      "cell_type": "markdown",
      "metadata": {
        "id": "view-in-github",
        "colab_type": "text"
      },
      "source": [
        "<a href=\"https://colab.research.google.com/github/sydmou/BART-ABSA/blob/main/BART-ABSA%20Test.ipynb\" target=\"_parent\"><img src=\"https://colab.research.google.com/assets/colab-badge.svg\" alt=\"Open In Colab\"/></a>"
      ]
    },
    {
      "cell_type": "code",
      "execution_count": null,
      "metadata": {
        "id": "wAX8GzhxloPu"
      },
      "outputs": [],
      "source": [
        ""
      ]
    },
    {
      "cell_type": "code",
      "source": [
        "from google.colab import drive\n",
        "drive.mount('/content/drive')"
      ],
      "metadata": {
        "colab": {
          "base_uri": "https://localhost:8080/"
        },
        "id": "VGfRLggnl1mv",
        "outputId": "c5589074-f726-4dc1-f913-3b9056b20520"
      },
      "execution_count": 1,
      "outputs": [
        {
          "output_type": "stream",
          "name": "stdout",
          "text": [
            "Mounted at /content/drive\n"
          ]
        }
      ]
    },
    {
      "cell_type": "code",
      "source": [
        "ls\n"
      ],
      "metadata": {
        "colab": {
          "base_uri": "https://localhost:8080/"
        },
        "id": "-ITciDG6mGqT",
        "outputId": "0f9f5852-042f-40a3-e780-55abf556e0e9"
      },
      "execution_count": 2,
      "outputs": [
        {
          "output_type": "stream",
          "name": "stdout",
          "text": [
            "\u001b[0m\u001b[01;34mdrive\u001b[0m/  \u001b[01;34msample_data\u001b[0m/\n"
          ]
        }
      ]
    },
    {
      "cell_type": "code",
      "source": [
        "cd /content/drive/MyDrive/Colab Notebooks/BARTABSA-TEST-main/peng/\n"
      ],
      "metadata": {
        "colab": {
          "base_uri": "https://localhost:8080/"
        },
        "id": "GG6PAD5UmJDb",
        "outputId": "2a8dbff4-ed27-42ee-84a3-a85d052effda"
      },
      "execution_count": 3,
      "outputs": [
        {
          "output_type": "stream",
          "name": "stdout",
          "text": [
            "/content/drive/MyDrive/Colab Notebooks/BARTABSA-TEST-main/peng\n"
          ]
        }
      ]
    },
    {
      "cell_type": "code",
      "source": [
        "ls\n"
      ],
      "metadata": {
        "colab": {
          "base_uri": "https://localhost:8080/"
        },
        "id": "zzjKTRIEmeU2",
        "outputId": "dd1fd241-8426-47c3-92f3-b8087bd8e5ae"
      },
      "execution_count": 9,
      "outputs": [
        {
          "output_type": "stream",
          "name": "stdout",
          "text": [
            "\u001b[0m\u001b[01;34mdata\u001b[0m/  __init__.py  \u001b[01;34mlogs\u001b[0m/  \u001b[01;34mmodel\u001b[0m/  \u001b[01;34m__pycache__\u001b[0m/  train.py\n"
          ]
        }
      ]
    },
    {
      "cell_type": "code",
      "source": [
        "!python train.py --dataset pengb/14lap"
      ],
      "metadata": {
        "colab": {
          "base_uri": "https://localhost:8080/"
        },
        "id": "Tng4TvxLm0Zy",
        "outputId": "facdd859-4f0c-4f5f-d212-ffa8273c959b"
      },
      "execution_count": 10,
      "outputs": [
        {
          "output_type": "stream",
          "name": "stdout",
          "text": [
            "Traceback (most recent call last):\n",
            "  File \"train.py\", line 10, in <module>\n",
            "    from data.pipe import BartBPEABSAPipe\n",
            "  File \"/content/drive/MyDrive/Colab Notebooks/BARTABSA-TEST-main/peng/data/pipe.py\", line 1, in <module>\n",
            "    from fastNLP.io import Pipe, DataBundle, Loader\n",
            "ModuleNotFoundError: No module named 'fastNLP'\n"
          ]
        }
      ]
    },
    {
      "cell_type": "code",
      "source": [
        ""
      ],
      "metadata": {
        "id": "oRIwz-CGnLDs"
      },
      "execution_count": null,
      "outputs": []
    },
    {
      "cell_type": "code",
      "source": [
        "pip install git+https://github.com/fastnlp/fastNLP@dev\n"
      ],
      "metadata": {
        "colab": {
          "base_uri": "https://localhost:8080/"
        },
        "id": "kfmdW-ZjnCmv",
        "outputId": "01619b39-5c90-4ee5-bbaa-a02a5f06ffe6"
      },
      "execution_count": 5,
      "outputs": [
        {
          "output_type": "stream",
          "name": "stdout",
          "text": [
            "Looking in indexes: https://pypi.org/simple, https://us-python.pkg.dev/colab-wheels/public/simple/\n",
            "Collecting git+https://github.com/fastnlp/fastNLP@dev\n",
            "  Cloning https://github.com/fastnlp/fastNLP (to revision dev) to /tmp/pip-req-build-nbuwfse3\n",
            "  Running command git clone -q https://github.com/fastnlp/fastNLP /tmp/pip-req-build-nbuwfse3\n",
            "  Running command git checkout -b dev --track origin/dev\n",
            "  Switched to a new branch 'dev'\n",
            "  Branch 'dev' set up to track remote branch 'dev' from 'origin'.\n",
            "Requirement already satisfied: numpy>=1.14.2 in /usr/local/lib/python3.7/dist-packages (from FastNLP==0.7.1) (1.21.6)\n",
            "Requirement already satisfied: torch>=1.0.0 in /usr/local/lib/python3.7/dist-packages (from FastNLP==0.7.1) (1.11.0+cu113)\n",
            "Requirement already satisfied: tqdm>=4.28.1 in /usr/local/lib/python3.7/dist-packages (from FastNLP==0.7.1) (4.64.0)\n",
            "Requirement already satisfied: prettytable>=0.7.2 in /usr/local/lib/python3.7/dist-packages (from FastNLP==0.7.1) (3.3.0)\n",
            "Requirement already satisfied: requests in /usr/local/lib/python3.7/dist-packages (from FastNLP==0.7.1) (2.23.0)\n",
            "Requirement already satisfied: regex!=2019.12.17 in /usr/local/lib/python3.7/dist-packages (from FastNLP==0.7.1) (2019.12.20)\n",
            "Requirement already satisfied: importlib-metadata in /usr/local/lib/python3.7/dist-packages (from prettytable>=0.7.2->FastNLP==0.7.1) (4.11.4)\n",
            "Requirement already satisfied: wcwidth in /usr/local/lib/python3.7/dist-packages (from prettytable>=0.7.2->FastNLP==0.7.1) (0.2.5)\n",
            "Requirement already satisfied: typing-extensions in /usr/local/lib/python3.7/dist-packages (from torch>=1.0.0->FastNLP==0.7.1) (4.2.0)\n",
            "Requirement already satisfied: zipp>=0.5 in /usr/local/lib/python3.7/dist-packages (from importlib-metadata->prettytable>=0.7.2->FastNLP==0.7.1) (3.8.0)\n",
            "Requirement already satisfied: certifi>=2017.4.17 in /usr/local/lib/python3.7/dist-packages (from requests->FastNLP==0.7.1) (2022.5.18.1)\n",
            "Requirement already satisfied: chardet<4,>=3.0.2 in /usr/local/lib/python3.7/dist-packages (from requests->FastNLP==0.7.1) (3.0.4)\n",
            "Requirement already satisfied: urllib3!=1.25.0,!=1.25.1,<1.26,>=1.21.1 in /usr/local/lib/python3.7/dist-packages (from requests->FastNLP==0.7.1) (1.24.3)\n",
            "Requirement already satisfied: idna<3,>=2.5 in /usr/local/lib/python3.7/dist-packages (from requests->FastNLP==0.7.1) (2.10)\n",
            "Building wheels for collected packages: FastNLP\n",
            "  Building wheel for FastNLP (setup.py) ... \u001b[?25l\u001b[?25hdone\n",
            "  Created wheel for FastNLP: filename=FastNLP-0.7.1-py3-none-any.whl size=367653 sha256=f9dc3493828a4a040622e00e1233d643cb80a79ed724a39bc6c9aa30fb30ddb7\n",
            "  Stored in directory: /tmp/pip-ephem-wheel-cache-ttbztz4u/wheels/6d/59/98/f0987d54f87525e5076ead26be7157a9b4e66d38571521df30\n",
            "Successfully built FastNLP\n",
            "Installing collected packages: FastNLP\n",
            "Successfully installed FastNLP-0.7.1\n"
          ]
        }
      ]
    },
    {
      "cell_type": "code",
      "source": [
        "pip install git+https://github.com/fastnlp/fitlog\n"
      ],
      "metadata": {
        "colab": {
          "base_uri": "https://localhost:8080/"
        },
        "id": "w6BylZNtnHE-",
        "outputId": "74cdd9fc-34d3-448c-898d-a63e42ab913b"
      },
      "execution_count": 6,
      "outputs": [
        {
          "output_type": "stream",
          "name": "stdout",
          "text": [
            "Looking in indexes: https://pypi.org/simple, https://us-python.pkg.dev/colab-wheels/public/simple/\n",
            "Collecting git+https://github.com/fastnlp/fitlog\n",
            "  Cloning https://github.com/fastnlp/fitlog to /tmp/pip-req-build-qtto7_ok\n",
            "  Running command git clone -q https://github.com/fastnlp/fitlog /tmp/pip-req-build-qtto7_ok\n",
            "Requirement already satisfied: docopt>=0.6.2 in /usr/local/lib/python3.7/dist-packages (from fitlog==0.9.13) (0.6.2)\n",
            "Requirement already satisfied: flask>=1.0.2 in /usr/local/lib/python3.7/dist-packages (from fitlog==0.9.13) (1.1.4)\n",
            "Requirement already satisfied: numpy>=1.16.4 in /usr/local/lib/python3.7/dist-packages (from fitlog==0.9.13) (1.21.6)\n",
            "Collecting gitpython>=3.1.2\n",
            "  Downloading GitPython-3.1.27-py3-none-any.whl (181 kB)\n",
            "\u001b[K     |████████████████████████████████| 181 kB 32.2 MB/s \n",
            "\u001b[?25hRequirement already satisfied: Jinja2<3.0,>=2.10.1 in /usr/local/lib/python3.7/dist-packages (from flask>=1.0.2->fitlog==0.9.13) (2.11.3)\n",
            "Requirement already satisfied: Werkzeug<2.0,>=0.15 in /usr/local/lib/python3.7/dist-packages (from flask>=1.0.2->fitlog==0.9.13) (1.0.1)\n",
            "Requirement already satisfied: itsdangerous<2.0,>=0.24 in /usr/local/lib/python3.7/dist-packages (from flask>=1.0.2->fitlog==0.9.13) (1.1.0)\n",
            "Requirement already satisfied: click<8.0,>=5.1 in /usr/local/lib/python3.7/dist-packages (from flask>=1.0.2->fitlog==0.9.13) (7.1.2)\n",
            "Requirement already satisfied: typing-extensions>=3.7.4.3 in /usr/local/lib/python3.7/dist-packages (from gitpython>=3.1.2->fitlog==0.9.13) (4.2.0)\n",
            "Collecting gitdb<5,>=4.0.1\n",
            "  Downloading gitdb-4.0.9-py3-none-any.whl (63 kB)\n",
            "\u001b[K     |████████████████████████████████| 63 kB 2.5 MB/s \n",
            "\u001b[?25hCollecting smmap<6,>=3.0.1\n",
            "  Downloading smmap-5.0.0-py3-none-any.whl (24 kB)\n",
            "Requirement already satisfied: MarkupSafe>=0.23 in /usr/local/lib/python3.7/dist-packages (from Jinja2<3.0,>=2.10.1->flask>=1.0.2->fitlog==0.9.13) (2.0.1)\n",
            "Building wheels for collected packages: fitlog\n",
            "  Building wheel for fitlog (setup.py) ... \u001b[?25l\u001b[?25hdone\n",
            "  Created wheel for fitlog: filename=fitlog-0.9.13-py3-none-any.whl size=967575 sha256=9c9bff69707cc46239637d43a436b595f8ed7cd275726a433c817fee81014a80\n",
            "  Stored in directory: /tmp/pip-ephem-wheel-cache-y3vqoist/wheels/a1/d6/b8/2775a6d2a05b66444d21b4c18f89c77631e9bf991e7ab1ebc5\n",
            "Successfully built fitlog\n",
            "Installing collected packages: smmap, gitdb, gitpython, fitlog\n",
            "Successfully installed fitlog-0.9.13 gitdb-4.0.9 gitpython-3.1.27 smmap-5.0.0\n"
          ]
        }
      ]
    },
    {
      "cell_type": "code",
      "source": [
        "!python train.py --dataset pengb/14lap"
      ],
      "metadata": {
        "colab": {
          "base_uri": "https://localhost:8080/"
        },
        "id": "liLukjNwnMMZ",
        "outputId": "d4d76698-bcb6-4f50-fc01-4af0ecb52675"
      },
      "execution_count": 13,
      "outputs": [
        {
          "output_type": "stream",
          "name": "stdout",
          "text": [
            "Traceback (most recent call last):\n",
            "  File \"train.py\", line 10, in <module>\n",
            "    from data.pipe import BartBPEABSAPipe\n",
            "  File \"/content/drive/MyDrive/Colab Notebooks/BARTABSA-TEST-main/peng/data/pipe.py\", line 5, in <module>\n",
            "    from transformers import AutoTokenizer\n",
            "ModuleNotFoundError: No module named 'transformers'\n"
          ]
        }
      ]
    },
    {
      "cell_type": "code",
      "source": [
        ""
      ],
      "metadata": {
        "id": "0Is5_HPenfTu"
      },
      "execution_count": null,
      "outputs": []
    },
    {
      "cell_type": "code",
      "source": [
        "pip install transformers==3.4.0"
      ],
      "metadata": {
        "colab": {
          "base_uri": "https://localhost:8080/"
        },
        "id": "1PoL1qBwnPLR",
        "outputId": "01148d35-5bce-454d-b05a-f38a1b988130"
      },
      "execution_count": 7,
      "outputs": [
        {
          "output_type": "stream",
          "name": "stdout",
          "text": [
            "Looking in indexes: https://pypi.org/simple, https://us-python.pkg.dev/colab-wheels/public/simple/\n",
            "Collecting transformers==3.4.0\n",
            "  Downloading transformers-3.4.0-py3-none-any.whl (1.3 MB)\n",
            "\u001b[K     |████████████████████████████████| 1.3 MB 30.3 MB/s \n",
            "\u001b[?25hCollecting sacremoses\n",
            "  Downloading sacremoses-0.0.53.tar.gz (880 kB)\n",
            "\u001b[K     |████████████████████████████████| 880 kB 53.1 MB/s \n",
            "\u001b[?25hRequirement already satisfied: filelock in /usr/local/lib/python3.7/dist-packages (from transformers==3.4.0) (3.7.0)\n",
            "Requirement already satisfied: protobuf in /usr/local/lib/python3.7/dist-packages (from transformers==3.4.0) (3.17.3)\n",
            "Requirement already satisfied: packaging in /usr/local/lib/python3.7/dist-packages (from transformers==3.4.0) (21.3)\n",
            "Requirement already satisfied: regex!=2019.12.17 in /usr/local/lib/python3.7/dist-packages (from transformers==3.4.0) (2019.12.20)\n",
            "Requirement already satisfied: requests in /usr/local/lib/python3.7/dist-packages (from transformers==3.4.0) (2.23.0)\n",
            "Requirement already satisfied: numpy in /usr/local/lib/python3.7/dist-packages (from transformers==3.4.0) (1.21.6)\n",
            "Collecting tokenizers==0.9.2\n",
            "  Downloading tokenizers-0.9.2-cp37-cp37m-manylinux1_x86_64.whl (2.9 MB)\n",
            "\u001b[K     |████████████████████████████████| 2.9 MB 60.6 MB/s \n",
            "\u001b[?25hRequirement already satisfied: tqdm>=4.27 in /usr/local/lib/python3.7/dist-packages (from transformers==3.4.0) (4.64.0)\n",
            "Collecting sentencepiece!=0.1.92\n",
            "  Downloading sentencepiece-0.1.96-cp37-cp37m-manylinux_2_17_x86_64.manylinux2014_x86_64.whl (1.2 MB)\n",
            "\u001b[K     |████████████████████████████████| 1.2 MB 65.3 MB/s \n",
            "\u001b[?25hRequirement already satisfied: pyparsing!=3.0.5,>=2.0.2 in /usr/local/lib/python3.7/dist-packages (from packaging->transformers==3.4.0) (3.0.9)\n",
            "Requirement already satisfied: six>=1.9 in /usr/local/lib/python3.7/dist-packages (from protobuf->transformers==3.4.0) (1.15.0)\n",
            "Requirement already satisfied: urllib3!=1.25.0,!=1.25.1,<1.26,>=1.21.1 in /usr/local/lib/python3.7/dist-packages (from requests->transformers==3.4.0) (1.24.3)\n",
            "Requirement already satisfied: certifi>=2017.4.17 in /usr/local/lib/python3.7/dist-packages (from requests->transformers==3.4.0) (2022.5.18.1)\n",
            "Requirement already satisfied: chardet<4,>=3.0.2 in /usr/local/lib/python3.7/dist-packages (from requests->transformers==3.4.0) (3.0.4)\n",
            "Requirement already satisfied: idna<3,>=2.5 in /usr/local/lib/python3.7/dist-packages (from requests->transformers==3.4.0) (2.10)\n",
            "Requirement already satisfied: click in /usr/local/lib/python3.7/dist-packages (from sacremoses->transformers==3.4.0) (7.1.2)\n",
            "Requirement already satisfied: joblib in /usr/local/lib/python3.7/dist-packages (from sacremoses->transformers==3.4.0) (1.1.0)\n",
            "Building wheels for collected packages: sacremoses\n",
            "  Building wheel for sacremoses (setup.py) ... \u001b[?25l\u001b[?25hdone\n",
            "  Created wheel for sacremoses: filename=sacremoses-0.0.53-py3-none-any.whl size=895260 sha256=53f8d6442fdf2558444a4abd3dc1e8cd5aaca4f00ef06e200a1f66775d5b9e62\n",
            "  Stored in directory: /root/.cache/pip/wheels/87/39/dd/a83eeef36d0bf98e7a4d1933a4ad2d660295a40613079bafc9\n",
            "Successfully built sacremoses\n",
            "Installing collected packages: tokenizers, sentencepiece, sacremoses, transformers\n",
            "Successfully installed sacremoses-0.0.53 sentencepiece-0.1.96 tokenizers-0.9.2 transformers-3.4.0\n"
          ]
        }
      ]
    },
    {
      "cell_type": "code",
      "source": [
        "!python train.py --dataset pengb/14lap"
      ],
      "metadata": {
        "colab": {
          "base_uri": "https://localhost:8080/"
        },
        "id": "4q1WzghNngFt",
        "outputId": "b4a69581-1026-4908-d39b-737cdc58ada9"
      },
      "execution_count": 8,
      "outputs": [
        {
          "output_type": "stream",
          "name": "stdout",
          "text": [
            "\rDownloading:   0% 0.00/1.55k [00:00<?, ?B/s]\rDownloading: 100% 1.55k/1.55k [00:00<00:00, 1.96MB/s]\n",
            "\rDownloading:   0% 0.00/899k [00:00<?, ?B/s]\rDownloading: 100% 899k/899k [00:00<00:00, 32.2MB/s]\n",
            "Downloading: 100% 456k/456k [00:00<00:00, 22.0MB/s]\n",
            "Save cache to caches/data_facebook/bart-base_pengb/14lap_False.pt.\n",
            "The number of tokens in tokenizer  50265\n",
            "Downloading: 100% 558M/558M [00:07<00:00, 71.8MB/s]\n",
            "50268 50273\n",
            "input fields after batch(if batch size is 2):\n",
            "\ttgt_tokens: (1)type:torch.Tensor (2)dtype:torch.int64, (3)shape:torch.Size([2, 22]) \n",
            "\tsrc_tokens: (1)type:torch.Tensor (2)dtype:torch.int64, (3)shape:torch.Size([2, 41]) \n",
            "\tsrc_seq_len: (1)type:torch.Tensor (2)dtype:torch.int64, (3)shape:torch.Size([2]) \n",
            "\ttgt_seq_len: (1)type:torch.Tensor (2)dtype:torch.int64, (3)shape:torch.Size([2]) \n",
            "target fields after batch(if batch size is 2):\n",
            "\ttgt_tokens: (1)type:torch.Tensor (2)dtype:torch.int64, (3)shape:torch.Size([2, 22]) \n",
            "\ttarget_span: (1)type:numpy.ndarray (2)dtype:object, (3)shape:(2,) \n",
            "\ttgt_seq_len: (1)type:torch.Tensor (2)dtype:torch.int64, (3)shape:torch.Size([2]) \n",
            "\n",
            "training epochs started 2022-06-03-12-52-47-925379\n",
            "Evaluate data in 5.37 seconds!\n",
            "Evaluate data in 6.68 seconds!\n",
            "FitlogCallback evaluation on data-test:\n",
            "Seq2SeqSpanMetric: triple_f=11.379999999999999, triple_rec=7.02, triple_pre=29.92, oe_ae_f=15.27, oe_ae_rec=9.43, oe_ae_pre=40.160000000000004, ae_sc_f=16.27, ae_sc_rec=10.37, ae_sc_pre=37.8, em=0.0671, invalid=0.6098\n",
            "Evaluation on dev at Epoch 1/50. Step:57/2850: \n",
            "Seq2SeqSpanMetric: triple_f=13.73, triple_rec=8.7, triple_pre=32.61, oe_ae_f=18.759999999999998, oe_ae_rec=11.88, oe_ae_pre=44.57, ae_sc_f=23.71, ae_sc_rec=15.540000000000001, ae_sc_pre=50.0, em=0.0959, invalid=0.5845\n",
            "\n",
            "Evaluate data in 5.51 seconds!\n",
            "Evaluate data in 6.94 seconds!\n",
            "FitlogCallback evaluation on data-test:\n",
            "Seq2SeqSpanMetric: triple_f=38.66, triple_rec=33.09, triple_pre=46.489999999999995, oe_ae_f=44.49, oe_ae_rec=38.080000000000005, oe_ae_pre=53.510000000000005, ae_sc_f=51.31, ae_sc_rec=46.44, ae_sc_pre=57.330000000000005, em=0.189, invalid=0.0945\n",
            "Evaluation on dev at Epoch 2/50. Step:114/2850: \n",
            "Seq2SeqSpanMetric: triple_f=40.83, triple_rec=34.2, triple_pre=50.63999999999999, oe_ae_f=47.4, oe_ae_rec=39.71, oe_ae_pre=58.8, ae_sc_f=55.58, ae_sc_rec=49.66, ae_sc_pre=63.09, em=0.2511, invalid=0.0959\n",
            "\n",
            "Evaluate data in 5.11 seconds!\n",
            "Evaluate data in 6.49 seconds!\n",
            "FitlogCallback evaluation on data-test:\n",
            "Seq2SeqSpanMetric: triple_f=40.82, triple_rec=36.97, triple_pre=45.56, oe_ae_f=46.58, oe_ae_rec=42.14, oe_ae_pre=52.05, ae_sc_f=51.62, ae_sc_rec=49.89, ae_sc_pre=53.47, em=0.2713, invalid=0.0732\n",
            "Evaluation on dev at Epoch 3/50. Step:171/2850: \n",
            "Seq2SeqSpanMetric: triple_f=39.68, triple_rec=35.94, triple_pre=44.29, oe_ae_f=43.84, oe_ae_rec=39.71, oe_ae_pre=48.93, ae_sc_f=50.519999999999996, ae_sc_rec=48.99, ae_sc_pre=52.16, em=0.2466, invalid=0.0776\n",
            "\n",
            "Evaluate data in 4.78 seconds!\n",
            "Evaluate data in 6.03 seconds!\n",
            "FitlogCallback evaluation on data-test:\n",
            "Seq2SeqSpanMetric: triple_f=44.379999999999995, triple_rec=40.849999999999994, triple_pre=48.57, oe_ae_f=49.4, oe_ae_rec=45.47, oe_ae_pre=54.06999999999999, ae_sc_f=53.73, ae_sc_rec=52.05, ae_sc_pre=55.53, em=0.2378, invalid=0.0579\n",
            "Evaluation on dev at Epoch 4/50. Step:228/2850: \n",
            "Seq2SeqSpanMetric: triple_f=40.699999999999996, triple_rec=37.1, triple_pre=45.07, oe_ae_f=47.06, oe_ae_rec=42.9, oe_ae_pre=52.11, ae_sc_f=52.82, ae_sc_rec=50.68, ae_sc_pre=55.15, em=0.242, invalid=0.0959\n",
            "\n",
            "Evaluate data in 5.08 seconds!\n",
            "Evaluate data in 6.12 seconds!\n",
            "FitlogCallback evaluation on data-test:\n",
            "Seq2SeqSpanMetric: triple_f=53.059999999999995, triple_rec=50.46000000000001, triple_pre=55.94, oe_ae_f=60.84, oe_ae_rec=57.86, oe_ae_pre=64.14, ae_sc_f=64.11, ae_sc_rec=63.28, ae_sc_pre=64.97, em=0.2805, invalid=0.0945\n",
            "Evaluation on dev at Epoch 5/50. Step:285/2850: \n",
            "Seq2SeqSpanMetric: triple_f=52.190000000000005, triple_rec=50.13999999999999, triple_pre=54.400000000000006, oe_ae_f=59.730000000000004, oe_ae_rec=57.38999999999999, oe_ae_pre=62.260000000000005, ae_sc_f=67.91, ae_sc_rec=67.57, ae_sc_pre=68.26, em=0.2968, invalid=0.105\n",
            "\n",
            "Evaluate data in 4.79 seconds!\n",
            "Evaluate data in 6.01 seconds!\n",
            "FitlogCallback evaluation on data-test:\n",
            "Seq2SeqSpanMetric: triple_f=52.11, triple_rec=50.28, triple_pre=54.08, oe_ae_f=59.77, oe_ae_rec=57.67, oe_ae_pre=62.029999999999994, ae_sc_f=64.22, ae_sc_rec=64.14999999999999, ae_sc_pre=64.29, em=0.314, invalid=0.061\n",
            "Evaluation on dev at Epoch 6/50. Step:342/2850: \n",
            "Seq2SeqSpanMetric: triple_f=51.629999999999995, triple_rec=50.43, triple_pre=52.89, oe_ae_f=60.029999999999994, oe_ae_rec=58.550000000000004, oe_ae_pre=61.59, ae_sc_f=65.0, ae_sc_rec=65.88000000000001, ae_sc_pre=64.14, em=0.3379, invalid=0.0731\n",
            "\n",
            "Evaluate data in 4.47 seconds!\n",
            "Evaluate data in 5.37 seconds!\n",
            "FitlogCallback evaluation on data-test:\n",
            "Seq2SeqSpanMetric: triple_f=43.5, triple_rec=40.849999999999994, triple_pre=46.53, oe_ae_f=49.8, oe_ae_rec=46.77, oe_ae_pre=53.26, ae_sc_f=53.28000000000001, ae_sc_rec=52.7, ae_sc_pre=53.86, em=0.2591, invalid=0.0701\n",
            "Evaluation on dev at Epoch 7/50. Step:399/2850: \n",
            "Seq2SeqSpanMetric: triple_f=42.75, triple_rec=40.58, triple_pre=45.16, oe_ae_f=47.94, oe_ae_rec=45.51, oe_ae_pre=50.64999999999999, ae_sc_f=52.28, ae_sc_rec=52.35999999999999, ae_sc_pre=52.190000000000005, em=0.274, invalid=0.0822\n",
            "\n",
            "Evaluate data in 4.66 seconds!\n",
            "Evaluate data in 5.56 seconds!\n",
            "FitlogCallback evaluation on data-test:\n",
            "Seq2SeqSpanMetric: triple_f=46.400000000000006, triple_rec=44.73, triple_pre=48.209999999999994, oe_ae_f=52.16, oe_ae_rec=50.28, oe_ae_pre=54.17999999999999, ae_sc_f=54.7, ae_sc_rec=55.28999999999999, ae_sc_pre=54.120000000000005, em=0.2744, invalid=0.0518\n",
            "Evaluation on dev at Epoch 8/50. Step:456/2850: \n",
            "Seq2SeqSpanMetric: triple_f=44.74, triple_rec=44.35, triple_pre=45.129999999999995, oe_ae_f=48.54, oe_ae_rec=48.120000000000005, oe_ae_pre=48.97, ae_sc_f=54.84, ae_sc_rec=56.42, ae_sc_pre=53.349999999999994, em=0.2603, invalid=0.032\n",
            "\n",
            "Evaluate data in 4.1 seconds!\n",
            "Evaluate data in 5.03 seconds!\n",
            "FitlogCallback evaluation on data-test:\n",
            "Seq2SeqSpanMetric: triple_f=43.68, triple_rec=41.22, triple_pre=46.46, oe_ae_f=48.78, oe_ae_rec=46.03, oe_ae_pre=51.870000000000005, ae_sc_f=53.620000000000005, ae_sc_rec=53.559999999999995, ae_sc_pre=53.68000000000001, em=0.2652, invalid=0.0396\n",
            "Evaluation on dev at Epoch 9/50. Step:513/2850: \n",
            "Seq2SeqSpanMetric: triple_f=42.3, triple_rec=40.58, triple_pre=44.16, oe_ae_f=46.53, oe_ae_rec=44.64, oe_ae_pre=48.58, ae_sc_f=53.02, ae_sc_rec=53.38, ae_sc_pre=52.669999999999995, em=0.2785, invalid=0.0457\n",
            "\n",
            "Evaluate data in 3.98 seconds!\n",
            "Evaluate data in 5.12 seconds!\n",
            "FitlogCallback evaluation on data-test:\n",
            "Seq2SeqSpanMetric: triple_f=43.62, triple_rec=41.4, triple_pre=46.089999999999996, oe_ae_f=50.44, oe_ae_rec=47.870000000000005, oe_ae_pre=53.290000000000006, ae_sc_f=53.410000000000004, ae_sc_rec=53.349999999999994, ae_sc_pre=53.459999999999994, em=0.2713, invalid=0.0366\n",
            "Evaluation on dev at Epoch 10/50. Step:570/2850: \n",
            "Seq2SeqSpanMetric: triple_f=43.76, triple_rec=43.19, triple_pre=44.35, oe_ae_f=48.46, oe_ae_rec=47.83, oe_ae_pre=49.11, ae_sc_f=53.2, ae_sc_rec=54.730000000000004, ae_sc_pre=51.76, em=0.2831, invalid=0.0457\n",
            "\n",
            "Evaluate data in 3.83 seconds!\n",
            "Evaluate data in 5.19 seconds!\n",
            "FitlogCallback evaluation on data-test:\n",
            "Seq2SeqSpanMetric: triple_f=47.57, triple_rec=46.21, triple_pre=49.02, oe_ae_f=53.33, oe_ae_rec=51.76, oe_ae_pre=55.010000000000005, ae_sc_f=59.78, ae_sc_rec=60.040000000000006, ae_sc_pre=59.53000000000001, em=0.311, invalid=0.0488\n",
            "Evaluation on dev at Epoch 11/50. Step:627/2850: \n",
            "Seq2SeqSpanMetric: triple_f=49.21, triple_rec=49.57, triple_pre=48.86, oe_ae_f=54.96, oe_ae_rec=55.36, oe_ae_pre=54.56999999999999, ae_sc_f=60.589999999999996, ae_sc_rec=62.839999999999996, ae_sc_pre=58.489999999999995, em=0.3105, invalid=0.0548\n",
            "\n",
            "Evaluate data in 3.75 seconds!\n",
            "Evaluate data in 4.65 seconds!\n",
            "FitlogCallback evaluation on data-test:\n",
            "Seq2SeqSpanMetric: triple_f=51.629999999999995, triple_rec=48.43, triple_pre=55.269999999999996, oe_ae_f=60.3, oe_ae_rec=56.56, oe_ae_pre=64.56, ae_sc_f=61.77, ae_sc_rec=60.91, ae_sc_pre=62.67, em=0.378, invalid=0.0305\n",
            "Evaluation on dev at Epoch 12/50. Step:684/2850: \n",
            "Seq2SeqSpanMetric: triple_f=50.38, triple_rec=48.41, triple_pre=52.52, oe_ae_f=58.52, oe_ae_rec=56.230000000000004, oe_ae_pre=61.01, ae_sc_f=61.85000000000001, ae_sc_rec=62.160000000000004, ae_sc_pre=61.53999999999999, em=0.3562, invalid=0.0776\n",
            "\n",
            "Evaluate data in 3.82 seconds!\n",
            "Evaluate data in 4.73 seconds!\n",
            "FitlogCallback evaluation on data-test:\n",
            "Seq2SeqSpanMetric: triple_f=55.76, triple_rec=53.23, triple_pre=58.540000000000006, oe_ae_f=63.31, oe_ae_rec=60.440000000000005, oe_ae_pre=66.46, ae_sc_f=67.9, ae_sc_rec=67.17, ae_sc_pre=68.65, em=0.3994, invalid=0.0213\n",
            "Evaluation on dev at Epoch 13/50. Step:741/2850: \n",
            "Seq2SeqSpanMetric: triple_f=53.02, triple_rec=52.17, triple_pre=53.89000000000001, oe_ae_f=58.91, oe_ae_rec=57.97, oe_ae_pre=59.88, ae_sc_f=68.67999999999999, ae_sc_rec=69.26, ae_sc_pre=68.11, em=0.3653, invalid=0.0639\n",
            "\n",
            "Evaluate data in 3.46 seconds!\n",
            "Evaluate data in 4.52 seconds!\n",
            "FitlogCallback evaluation on data-test:\n",
            "Seq2SeqSpanMetric: triple_f=53.22, triple_rec=51.2, triple_pre=55.400000000000006, oe_ae_f=60.33, oe_ae_rec=58.040000000000006, oe_ae_pre=62.8, ae_sc_f=64.62, ae_sc_rec=63.71, ae_sc_pre=65.56, em=0.3841, invalid=0.0305\n",
            "Evaluation on dev at Epoch 14/50. Step:798/2850: \n",
            "Seq2SeqSpanMetric: triple_f=50.81, triple_rec=50.13999999999999, triple_pre=51.49, oe_ae_f=56.98, oe_ae_rec=56.230000000000004, oe_ae_pre=57.74, ae_sc_f=65.89, ae_sc_rec=66.55, ae_sc_pre=65.23, em=0.3653, invalid=0.0183\n",
            "\n",
            "Evaluate data in 3.5 seconds!\n",
            "Evaluate data in 4.67 seconds!\n",
            "FitlogCallback evaluation on data-test:\n",
            "Seq2SeqSpanMetric: triple_f=55.44, triple_rec=52.31, triple_pre=58.96, oe_ae_f=62.29, oe_ae_rec=58.78, oe_ae_pre=66.25, ae_sc_f=68.0, ae_sc_rec=66.09, ae_sc_pre=70.02000000000001, em=0.4024, invalid=0.0549\n",
            "Evaluation on dev at Epoch 15/50. Step:855/2850: \n",
            "Seq2SeqSpanMetric: triple_f=55.31, triple_rec=53.620000000000005, triple_pre=57.099999999999994, oe_ae_f=60.69, oe_ae_rec=58.84, oe_ae_pre=62.64999999999999, ae_sc_f=70.28999999999999, ae_sc_rec=69.93, ae_sc_pre=70.65, em=0.379, invalid=0.0548\n",
            "\n",
            "Evaluate data in 3.25 seconds!\n",
            "Evaluate data in 4.42 seconds!\n",
            "FitlogCallback evaluation on data-test:\n",
            "Seq2SeqSpanMetric: triple_f=59.440000000000005, triple_rec=54.71, triple_pre=65.05, oe_ae_f=66.47, oe_ae_rec=61.18, oe_ae_pre=72.75, ae_sc_f=68.61, ae_sc_rec=66.09, ae_sc_pre=71.33, em=0.4604, invalid=0.0366\n",
            "Evaluation on dev at Epoch 16/50. Step:912/2850: \n",
            "Seq2SeqSpanMetric: triple_f=56.120000000000005, triple_rec=52.459999999999994, triple_pre=60.33, oe_ae_f=62.019999999999996, oe_ae_rec=57.97, oe_ae_pre=66.67, ae_sc_f=71.43, ae_sc_rec=69.26, ae_sc_pre=73.74000000000001, em=0.3881, invalid=0.0502\n",
            "\n",
            "Evaluate data in 3.79 seconds!\n",
            "Evaluate data in 4.56 seconds!\n",
            "FitlogCallback evaluation on data-test:\n",
            "Seq2SeqSpanMetric: triple_f=57.66, triple_rec=56.010000000000005, triple_pre=59.41, oe_ae_f=65.08, oe_ae_rec=63.22, oe_ae_pre=67.06, ae_sc_f=69.14, ae_sc_rec=68.47, ae_sc_pre=69.82000000000001, em=0.4024, invalid=0.0457\n",
            "Evaluation on dev at Epoch 17/50. Step:969/2850: \n",
            "Seq2SeqSpanMetric: triple_f=55.7, triple_rec=55.94, triple_pre=55.46, oe_ae_f=62.629999999999995, oe_ae_rec=62.9, oe_ae_pre=62.36000000000001, ae_sc_f=69.87, ae_sc_rec=71.28, ae_sc_pre=68.51, em=0.3881, invalid=0.0685\n",
            "\n",
            "Evaluate data in 3.51 seconds!\n",
            "Evaluate data in 4.61 seconds!\n",
            "FitlogCallback evaluation on data-test:\n",
            "Seq2SeqSpanMetric: triple_f=57.66, triple_rec=55.64, triple_pre=59.84, oe_ae_f=66.47999999999999, oe_ae_rec=64.14, oe_ae_pre=68.99, ae_sc_f=69.28, ae_sc_rec=68.67999999999999, ae_sc_pre=69.89, em=0.4085, invalid=0.0488\n",
            "Evaluation on dev at Epoch 18/50. Step:1026/2850: \n",
            "Seq2SeqSpanMetric: triple_f=54.410000000000004, triple_rec=54.49, triple_pre=54.339999999999996, oe_ae_f=61.650000000000006, oe_ae_rec=61.739999999999995, oe_ae_pre=61.56, ae_sc_f=68.53, ae_sc_rec=70.27, ae_sc_pre=66.88, em=0.3607, invalid=0.0776\n",
            "\n",
            "Evaluate data in 3.33 seconds!\n",
            "Evaluate data in 4.41 seconds!\n",
            "FitlogCallback evaluation on data-test:\n",
            "Seq2SeqSpanMetric: triple_f=56.61000000000001, triple_rec=53.42, triple_pre=60.209999999999994, oe_ae_f=64.25, oe_ae_rec=60.629999999999995, oe_ae_pre=68.33, ae_sc_f=68.65, ae_sc_rec=67.39, ae_sc_pre=69.96, em=0.4238, invalid=0.0366\n",
            "Evaluation on dev at Epoch 19/50. Step:1083/2850: \n",
            "Seq2SeqSpanMetric: triple_f=53.31, triple_rec=51.300000000000004, triple_pre=55.489999999999995, oe_ae_f=60.24, oe_ae_rec=57.97, oe_ae_pre=62.7, ae_sc_f=69.26, ae_sc_rec=69.26, ae_sc_pre=69.26, em=0.3562, invalid=0.0548\n",
            "\n",
            "Evaluate data in 3.55 seconds!\n",
            "Evaluate data in 4.79 seconds!\n",
            "FitlogCallback evaluation on data-test:\n",
            "Seq2SeqSpanMetric: triple_f=57.47, triple_rec=55.08, triple_pre=60.08, oe_ae_f=64.61, oe_ae_rec=61.919999999999995, oe_ae_pre=67.54, ae_sc_f=68.5, ae_sc_rec=67.39, ae_sc_pre=69.64, em=0.4238, invalid=0.0396\n",
            "Evaluation on dev at Epoch 20/50. Step:1140/2850: \n",
            "Seq2SeqSpanMetric: triple_f=55.900000000000006, triple_rec=54.2, triple_pre=57.720000000000006, oe_ae_f=62.480000000000004, oe_ae_rec=60.58, oe_ae_pre=64.51, ae_sc_f=69.81, ae_sc_rec=69.93, ae_sc_pre=69.69999999999999, em=0.3927, invalid=0.0548\n",
            "\n",
            "Evaluate data in 3.56 seconds!\n",
            "Evaluate data in 4.57 seconds!\n",
            "FitlogCallback evaluation on data-test:\n",
            "Seq2SeqSpanMetric: triple_f=57.66, triple_rec=56.010000000000005, triple_pre=59.41, oe_ae_f=64.7, oe_ae_rec=62.849999999999994, oe_ae_pre=66.67, ae_sc_f=70.33, ae_sc_rec=70.41, ae_sc_pre=70.26, em=0.4116, invalid=0.0274\n",
            "Evaluation on dev at Epoch 21/50. Step:1197/2850: \n",
            "Seq2SeqSpanMetric: triple_f=53.0, triple_rec=52.459999999999994, triple_pre=53.55, oe_ae_f=60.91, oe_ae_rec=60.29, oe_ae_pre=61.53999999999999, ae_sc_f=68.22, ae_sc_rec=69.26, ae_sc_pre=67.21000000000001, em=0.3379, invalid=0.0776\n",
            "\n",
            "Evaluate data in 3.52 seconds!\n",
            "Evaluate data in 4.53 seconds!\n",
            "FitlogCallback evaluation on data-test:\n",
            "Seq2SeqSpanMetric: triple_f=58.06, triple_rec=56.56, triple_pre=59.650000000000006, oe_ae_f=65.28, oe_ae_rec=63.59, oe_ae_pre=67.06, ae_sc_f=69.97, ae_sc_rec=70.19, ae_sc_pre=69.74000000000001, em=0.4207, invalid=0.0244\n",
            "Evaluation on dev at Epoch 22/50. Step:1254/2850: \n",
            "Seq2SeqSpanMetric: triple_f=55.2, triple_rec=55.36, triple_pre=55.04, oe_ae_f=61.56, oe_ae_rec=61.739999999999995, oe_ae_pre=61.38, ae_sc_f=68.64, ae_sc_rec=70.61, ae_sc_pre=66.77, em=0.3881, invalid=0.0594\n",
            "\n",
            "Evaluate data in 3.53 seconds!\n",
            "Evaluate data in 4.39 seconds!\n",
            "FitlogCallback evaluation on data-test:\n",
            "Seq2SeqSpanMetric: triple_f=56.95, triple_rec=54.900000000000006, triple_pre=59.160000000000004, oe_ae_f=64.81, oe_ae_rec=62.480000000000004, oe_ae_pre=67.33, ae_sc_f=67.89, ae_sc_rec=67.82000000000001, ae_sc_pre=67.97, em=0.4299, invalid=0.0305\n",
            "Evaluation on dev at Epoch 23/50. Step:1311/2850: \n",
            "Seq2SeqSpanMetric: triple_f=54.44, triple_rec=54.2, triple_pre=54.67999999999999, oe_ae_f=62.01, oe_ae_rec=61.739999999999995, oe_ae_pre=62.28, ae_sc_f=68.97999999999999, ae_sc_rec=70.61, ae_sc_pre=67.42, em=0.3927, invalid=0.0457\n",
            "\n",
            "Evaluate data in 3.34 seconds!\n",
            "Evaluate data in 4.39 seconds!\n",
            "FitlogCallback evaluation on data-test:\n",
            "Seq2SeqSpanMetric: triple_f=56.92, triple_rec=55.08, triple_pre=58.89, oe_ae_f=65.14, oe_ae_rec=63.029999999999994, oe_ae_pre=67.39, ae_sc_f=69.34, ae_sc_rec=69.11, ae_sc_pre=69.57, em=0.4329, invalid=0.0274\n",
            "Evaluation on dev at Epoch 24/50. Step:1368/2850: \n",
            "Seq2SeqSpanMetric: triple_f=54.09, triple_rec=53.620000000000005, triple_pre=54.56999999999999, oe_ae_f=60.81999999999999, oe_ae_rec=60.29, oe_ae_pre=61.36000000000001, ae_sc_f=68.99, ae_sc_rec=70.27, ae_sc_pre=67.75, em=0.3927, invalid=0.0594\n",
            "\n",
            "Evaluate data in 3.53 seconds!\n",
            "Evaluate data in 4.6 seconds!\n",
            "FitlogCallback evaluation on data-test:\n",
            "Seq2SeqSpanMetric: triple_f=56.720000000000006, triple_rec=56.19, triple_pre=57.25, oe_ae_f=64.37, oe_ae_rec=63.77, oe_ae_pre=64.97, ae_sc_f=69.6, ae_sc_rec=69.98, ae_sc_pre=69.23, em=0.3902, invalid=0.0335\n",
            "Evaluation on dev at Epoch 25/50. Step:1425/2850: \n",
            "Seq2SeqSpanMetric: triple_f=53.14, triple_rec=53.910000000000004, triple_pre=52.39, oe_ae_f=60.86, oe_ae_rec=61.739999999999995, oe_ae_pre=60.0, ae_sc_f=68.31, ae_sc_rec=70.27, ae_sc_pre=66.45, em=0.3379, invalid=0.0776\n",
            "\n",
            "Evaluate data in 3.34 seconds!\n",
            "Evaluate data in 4.89 seconds!\n",
            "FitlogCallback evaluation on data-test:\n",
            "Seq2SeqSpanMetric: triple_f=57.879999999999995, triple_rec=53.97, triple_pre=62.39, oe_ae_f=65.01, oe_ae_rec=60.629999999999995, oe_ae_pre=70.09, ae_sc_f=69.92, ae_sc_rec=68.03, ae_sc_pre=71.92, em=0.436, invalid=0.0274\n",
            "Evaluation on dev at Epoch 26/50. Step:1482/2850: \n",
            "Seq2SeqSpanMetric: triple_f=55.54, triple_rec=53.04, triple_pre=58.28, oe_ae_f=62.519999999999996, oe_ae_rec=59.709999999999994, oe_ae_pre=65.61, ae_sc_f=71.31, ae_sc_rec=70.95, ae_sc_pre=71.67, em=0.4064, invalid=0.0411\n",
            "\n",
            "Evaluate data in 3.74 seconds!\n",
            "Evaluate data in 4.78 seconds!\n",
            "FitlogCallback evaluation on data-test:\n",
            "Seq2SeqSpanMetric: triple_f=57.28, triple_rec=56.379999999999995, triple_pre=58.209999999999994, oe_ae_f=65.73, oe_ae_rec=64.7, oe_ae_pre=66.79, ae_sc_f=69.1, ae_sc_rec=69.55, ae_sc_pre=68.66, em=0.4024, invalid=0.0549\n",
            "Evaluation on dev at Epoch 27/50. Step:1539/2850: \n",
            "Seq2SeqSpanMetric: triple_f=54.02, triple_rec=54.49, triple_pre=53.559999999999995, oe_ae_f=61.21, oe_ae_rec=61.739999999999995, oe_ae_pre=60.68, ae_sc_f=66.02, ae_sc_rec=68.58, ae_sc_pre=63.63999999999999, em=0.379, invalid=0.0639\n",
            "\n",
            "Evaluate data in 3.5 seconds!\n",
            "Evaluate data in 4.65 seconds!\n",
            "FitlogCallback evaluation on data-test:\n",
            "Seq2SeqSpanMetric: triple_f=57.14, triple_rec=55.45, triple_pre=58.940000000000005, oe_ae_f=65.52, oe_ae_rec=63.59, oe_ae_pre=67.58, ae_sc_f=68.75, ae_sc_rec=68.89999999999999, ae_sc_pre=68.60000000000001, em=0.4268, invalid=0.0427\n",
            "Evaluation on dev at Epoch 28/50. Step:1596/2850: \n",
            "Seq2SeqSpanMetric: triple_f=53.53, triple_rec=53.910000000000004, triple_pre=53.14, oe_ae_f=61.01, oe_ae_rec=61.45, oe_ae_pre=60.57, ae_sc_f=67.10000000000001, ae_sc_rec=69.26, ae_sc_pre=65.08, em=0.3425, invalid=0.0639\n",
            "\n",
            "Evaluate data in 3.34 seconds!\n",
            "Evaluate data in 5.14 seconds!\n",
            "FitlogCallback evaluation on data-test:\n",
            "Seq2SeqSpanMetric: triple_f=58.64, triple_rec=55.82, triple_pre=61.760000000000005, oe_ae_f=65.83, oe_ae_rec=62.660000000000004, oe_ae_pre=69.33, ae_sc_f=71.05, ae_sc_rec=69.98, ae_sc_pre=72.16, em=0.4299, invalid=0.0274\n",
            "Evaluation on dev at Epoch 29/50. Step:1653/2850: \n",
            "Seq2SeqSpanMetric: triple_f=55.879999999999995, triple_rec=55.06999999999999, triple_pre=56.720000000000006, oe_ae_f=63.239999999999995, oe_ae_rec=62.32, oe_ae_pre=64.18, ae_sc_f=68.11, ae_sc_rec=68.92, ae_sc_pre=67.33, em=0.4064, invalid=0.0457\n",
            "\n",
            "Evaluate data in 3.44 seconds!\n",
            "Evaluate data in 4.56 seconds!\n",
            "FitlogCallback evaluation on data-test:\n",
            "Seq2SeqSpanMetric: triple_f=58.620000000000005, triple_rec=56.56, triple_pre=60.83, oe_ae_f=66.28, oe_ae_rec=63.959999999999994, oe_ae_pre=68.78999999999999, ae_sc_f=70.28999999999999, ae_sc_rec=69.76, ae_sc_pre=70.83, em=0.4238, invalid=0.0366\n",
            "Evaluation on dev at Epoch 30/50. Step:1710/2850: \n",
            "Seq2SeqSpanMetric: triple_f=55.17999999999999, triple_rec=54.779999999999994, triple_pre=55.589999999999996, oe_ae_f=61.99, oe_ae_rec=61.45, oe_ae_pre=62.53999999999999, ae_sc_f=68.77, ae_sc_rec=69.93, ae_sc_pre=67.65, em=0.3881, invalid=0.0685\n",
            "\n",
            "Evaluate data in 3.28 seconds!\n",
            "Evaluate data in 4.78 seconds!\n",
            "FitlogCallback evaluation on data-test:\n",
            "Seq2SeqSpanMetric: triple_f=58.720000000000006, triple_rec=56.010000000000005, triple_pre=61.71, oe_ae_f=67.05, oe_ae_rec=63.959999999999994, oe_ae_pre=70.47, ae_sc_f=69.45, ae_sc_rec=68.25, ae_sc_pre=70.69, em=0.436, invalid=0.0396\n",
            "Evaluation on dev at Epoch 31/50. Step:1767/2850: \n",
            "Seq2SeqSpanMetric: triple_f=55.00000000000001, triple_rec=54.2, triple_pre=55.82, oe_ae_f=61.18, oe_ae_rec=60.29, oe_ae_pre=62.09, ae_sc_f=68.89999999999999, ae_sc_rec=69.59, ae_sc_pre=68.21000000000001, em=0.3973, invalid=0.0639\n",
            "\n",
            "Evaluate data in 3.33 seconds!\n",
            "Evaluate data in 4.46 seconds!\n",
            "FitlogCallback evaluation on data-test:\n",
            "Seq2SeqSpanMetric: triple_f=59.3, triple_rec=56.56, triple_pre=62.32, oe_ae_f=67.44, oe_ae_rec=64.33, oe_ae_pre=70.88, ae_sc_f=69.73, ae_sc_rec=68.89999999999999, ae_sc_pre=70.58, em=0.4451, invalid=0.0335\n",
            "Evaluation on dev at Epoch 32/50. Step:1824/2850: \n",
            "Seq2SeqSpanMetric: triple_f=55.720000000000006, triple_rec=55.06999999999999, triple_pre=56.379999999999995, oe_ae_f=62.17, oe_ae_rec=61.45, oe_ae_pre=62.91, ae_sc_f=69.67, ae_sc_rec=70.61, ae_sc_pre=68.75, em=0.4064, invalid=0.0502\n",
            "\n",
            "Evaluate data in 3.31 seconds!\n",
            "Evaluate data in 4.34 seconds!\n",
            "FitlogCallback evaluation on data-test:\n",
            "Seq2SeqSpanMetric: triple_f=58.45, triple_rec=55.64, triple_pre=61.550000000000004, oe_ae_f=65.83, oe_ae_rec=62.660000000000004, oe_ae_pre=69.33, ae_sc_f=70.69, ae_sc_rec=69.55, ae_sc_pre=71.87, em=0.4421, invalid=0.0183\n",
            "Evaluation on dev at Epoch 33/50. Step:1881/2850: \n",
            "Seq2SeqSpanMetric: triple_f=54.87, triple_rec=53.910000000000004, triple_pre=55.86, oe_ae_f=61.650000000000006, oe_ae_rec=60.58, oe_ae_pre=62.760000000000005, ae_sc_f=68.57, ae_sc_rec=68.92, ae_sc_pre=68.23, em=0.3881, invalid=0.0457\n",
            "\n",
            "Evaluate data in 3.49 seconds!\n",
            "Evaluate data in 4.61 seconds!\n",
            "FitlogCallback evaluation on data-test:\n",
            "Seq2SeqSpanMetric: triple_f=58.74, triple_rec=56.19, triple_pre=61.53999999999999, oe_ae_f=65.7, oe_ae_rec=62.849999999999994, oe_ae_pre=68.83, ae_sc_f=70.30999999999999, ae_sc_rec=69.55, ae_sc_pre=71.08, em=0.436, invalid=0.0305\n",
            "Evaluation on dev at Epoch 34/50. Step:1938/2850: \n",
            "Seq2SeqSpanMetric: triple_f=56.220000000000006, triple_rec=55.65, triple_pre=56.8, oe_ae_f=62.370000000000005, oe_ae_rec=61.739999999999995, oe_ae_pre=63.019999999999996, ae_sc_f=70.1, ae_sc_rec=71.28, ae_sc_pre=68.95, em=0.4018, invalid=0.0594\n",
            "\n",
            "Evaluate data in 3.4 seconds!\n",
            "Evaluate data in 4.54 seconds!\n",
            "FitlogCallback evaluation on data-test:\n",
            "Seq2SeqSpanMetric: triple_f=59.040000000000006, triple_rec=55.82, triple_pre=62.660000000000004, oe_ae_f=65.69, oe_ae_rec=62.11, oe_ae_pre=69.71000000000001, ae_sc_f=70.26, ae_sc_rec=68.89999999999999, ae_sc_pre=71.69, em=0.4421, invalid=0.0274\n",
            "Evaluation on dev at Epoch 35/50. Step:1995/2850: \n",
            "Seq2SeqSpanMetric: triple_f=54.76, triple_rec=53.33, triple_pre=56.269999999999996, oe_ae_f=61.61, oe_ae_rec=60.0, oe_ae_pre=63.3, ae_sc_f=69.67999999999999, ae_sc_rec=70.27, ae_sc_pre=69.1, em=0.3927, invalid=0.0548\n",
            "\n",
            "Evaluate data in 3.34 seconds!\n",
            "Evaluate data in 4.36 seconds!\n",
            "FitlogCallback evaluation on data-test:\n",
            "Seq2SeqSpanMetric: triple_f=58.730000000000004, triple_rec=56.56, triple_pre=61.08, oe_ae_f=66.41, oe_ae_rec=63.959999999999994, oe_ae_pre=69.06, ae_sc_f=70.21, ae_sc_rec=69.98, ae_sc_pre=70.43, em=0.4238, invalid=0.0396\n",
            "Evaluation on dev at Epoch 36/50. Step:2052/2850: \n",
            "Seq2SeqSpanMetric: triple_f=55.1, triple_rec=54.779999999999994, triple_pre=55.43, oe_ae_f=62.68, oe_ae_rec=62.32, oe_ae_pre=63.05, ae_sc_f=68.65, ae_sc_rec=70.27, ae_sc_pre=67.10000000000001, em=0.379, invalid=0.0594\n",
            "\n",
            "Evaluate data in 3.44 seconds!\n",
            "Evaluate data in 4.82 seconds!\n",
            "FitlogCallback evaluation on data-test:\n",
            "Seq2SeqSpanMetric: triple_f=58.35, triple_rec=56.19, triple_pre=60.68, oe_ae_f=65.45, oe_ae_rec=63.029999999999994, oe_ae_pre=68.06, ae_sc_f=69.56, ae_sc_rec=69.33, ae_sc_pre=69.78, em=0.4238, invalid=0.0305\n",
            "Evaluation on dev at Epoch 37/50. Step:2109/2850: \n",
            "Seq2SeqSpanMetric: triple_f=55.98, triple_rec=55.65, triple_pre=56.3, oe_ae_f=62.68, oe_ae_rec=62.32, oe_ae_pre=63.05, ae_sc_f=70.55, ae_sc_rec=71.61999999999999, ae_sc_pre=69.51, em=0.3881, invalid=0.0594\n",
            "\n",
            "Evaluate data in 3.44 seconds!\n",
            "Evaluate data in 4.65 seconds!\n",
            "FitlogCallback evaluation on data-test:\n",
            "Seq2SeqSpanMetric: triple_f=57.98, triple_rec=56.379999999999995, triple_pre=59.69, oe_ae_f=65.78, oe_ae_rec=63.959999999999994, oe_ae_pre=67.71000000000001, ae_sc_f=69.61, ae_sc_rec=69.76, ae_sc_pre=69.46, em=0.4116, invalid=0.0457\n",
            "Evaluation on dev at Epoch 38/50. Step:2166/2850: \n",
            "Seq2SeqSpanMetric: triple_f=55.87, triple_rec=56.52, triple_pre=55.24, oe_ae_f=62.74999999999999, oe_ae_rec=63.480000000000004, oe_ae_pre=62.03999999999999, ae_sc_f=69.31, ae_sc_rec=70.95, ae_sc_pre=67.74, em=0.3881, invalid=0.0548\n",
            "\n",
            "Evaluate data in 3.45 seconds!\n",
            "Evaluate data in 4.77 seconds!\n",
            "FitlogCallback evaluation on data-test:\n",
            "Seq2SeqSpanMetric: triple_f=58.34, triple_rec=56.56, triple_pre=60.24, oe_ae_f=66.16, oe_ae_rec=64.14, oe_ae_pre=68.31, ae_sc_f=69.05, ae_sc_rec=68.89999999999999, ae_sc_pre=69.19999999999999, em=0.4268, invalid=0.0335\n",
            "Evaluation on dev at Epoch 39/50. Step:2223/2850: \n",
            "Seq2SeqSpanMetric: triple_f=55.1, triple_rec=54.779999999999994, triple_pre=55.43, oe_ae_f=62.1, oe_ae_rec=61.739999999999995, oe_ae_pre=62.46000000000001, ae_sc_f=68.77, ae_sc_rec=69.93, ae_sc_pre=67.65, em=0.3973, invalid=0.0594\n",
            "\n",
            "Evaluate data in 3.42 seconds!\n",
            "Evaluate data in 4.54 seconds!\n",
            "FitlogCallback evaluation on data-test:\n",
            "Seq2SeqSpanMetric: triple_f=58.28, triple_rec=56.93, triple_pre=59.69, oe_ae_f=65.85, oe_ae_rec=64.33, oe_ae_pre=67.44, ae_sc_f=69.83, ae_sc_rec=69.98, ae_sc_pre=69.67999999999999, em=0.4329, invalid=0.0305\n",
            "Evaluation on dev at Epoch 40/50. Step:2280/2850: \n",
            "Seq2SeqSpanMetric: triple_f=56.19, triple_rec=55.94, triple_pre=56.43, oe_ae_f=62.88, oe_ae_rec=62.61, oe_ae_pre=63.160000000000004, ae_sc_f=69.67, ae_sc_rec=70.61, ae_sc_pre=68.75, em=0.3927, invalid=0.0594\n",
            "\n",
            "Evaluate data in 3.3 seconds!\n",
            "Evaluate data in 4.49 seconds!\n",
            "FitlogCallback evaluation on data-test:\n",
            "Seq2SeqSpanMetric: triple_f=58.940000000000005, triple_rec=57.3, triple_pre=60.67, oe_ae_f=66.35, oe_ae_rec=64.51, oe_ae_pre=68.30000000000001, ae_sc_f=70.47, ae_sc_rec=70.63000000000001, ae_sc_pre=70.32000000000001, em=0.439, invalid=0.0274\n",
            "Evaluation on dev at Epoch 41/50. Step:2337/2850: \n",
            "Seq2SeqSpanMetric: triple_f=55.31, triple_rec=55.06999999999999, triple_pre=55.559999999999995, oe_ae_f=62.88, oe_ae_rec=62.61, oe_ae_pre=63.160000000000004, ae_sc_f=68.32000000000001, ae_sc_rec=69.93, ae_sc_pre=66.77, em=0.3973, invalid=0.0639\n",
            "\n",
            "Evaluate data in 3.37 seconds!\n",
            "Evaluate data in 4.33 seconds!\n",
            "FitlogCallback evaluation on data-test:\n",
            "Seq2SeqSpanMetric: triple_f=57.91, triple_rec=55.82, triple_pre=60.160000000000004, oe_ae_f=65.2, oe_ae_rec=62.849999999999994, oe_ae_pre=67.73, ae_sc_f=69.93, ae_sc_rec=69.33, ae_sc_pre=70.55, em=0.4238, invalid=0.0244\n",
            "Evaluation on dev at Epoch 42/50. Step:2394/2850: \n",
            "Seq2SeqSpanMetric: triple_f=56.85, triple_rec=56.52, triple_pre=57.18, oe_ae_f=63.849999999999994, oe_ae_rec=63.480000000000004, oe_ae_pre=64.22, ae_sc_f=69.32000000000001, ae_sc_rec=70.61, ae_sc_pre=68.08, em=0.411, invalid=0.0365\n",
            "\n",
            "Evaluate data in 3.35 seconds!\n",
            "Evaluate data in 4.42 seconds!\n",
            "FitlogCallback evaluation on data-test:\n",
            "Seq2SeqSpanMetric: triple_f=58.940000000000005, triple_rec=56.379999999999995, triple_pre=61.739999999999995, oe_ae_f=66.47, oe_ae_rec=63.59, oe_ae_pre=69.64, ae_sc_f=69.06, ae_sc_rec=68.47, ae_sc_pre=69.67, em=0.4482, invalid=0.0274\n",
            "Evaluation on dev at Epoch 43/50. Step:2451/2850: \n",
            "Seq2SeqSpanMetric: triple_f=56.06, triple_rec=55.65, triple_pre=56.47, oe_ae_f=62.480000000000004, oe_ae_rec=62.029999999999994, oe_ae_pre=62.94, ae_sc_f=69.54, ae_sc_rec=70.95, ae_sc_pre=68.17999999999999, em=0.4064, invalid=0.0548\n",
            "\n",
            "Evaluate data in 3.33 seconds!\n",
            "Evaluate data in 4.43 seconds!\n",
            "FitlogCallback evaluation on data-test:\n",
            "Seq2SeqSpanMetric: triple_f=59.58, triple_rec=57.489999999999995, triple_pre=61.83, oe_ae_f=67.05, oe_ae_rec=64.7, oe_ae_pre=69.58, ae_sc_f=70.64, ae_sc_rec=70.41, ae_sc_pre=70.87, em=0.4543, invalid=0.0274\n",
            "Evaluation on dev at Epoch 44/50. Step:2508/2850: \n",
            "Seq2SeqSpanMetric: triple_f=55.44, triple_rec=55.36, triple_pre=55.52, oe_ae_f=62.12, oe_ae_rec=62.029999999999994, oe_ae_pre=62.21, ae_sc_f=69.52000000000001, ae_sc_rec=71.28, ae_sc_pre=67.85, em=0.3881, invalid=0.0502\n",
            "\n",
            "Evaluate data in 3.27 seconds!\n",
            "Evaluate data in 4.39 seconds!\n",
            "FitlogCallback evaluation on data-test:\n",
            "Seq2SeqSpanMetric: triple_f=59.519999999999996, triple_rec=57.489999999999995, triple_pre=61.71, oe_ae_f=66.79, oe_ae_rec=64.51, oe_ae_pre=69.25, ae_sc_f=70.36, ae_sc_rec=69.98, ae_sc_pre=70.74000000000001, em=0.4482, invalid=0.0305\n",
            "Evaluation on dev at Epoch 45/50. Step:2565/2850: \n",
            "Seq2SeqSpanMetric: triple_f=55.230000000000004, triple_rec=55.06999999999999, triple_pre=55.38999999999999, oe_ae_f=61.629999999999995, oe_ae_rec=61.45, oe_ae_pre=61.809999999999995, ae_sc_f=69.64, ae_sc_rec=71.28, ae_sc_pre=68.06, em=0.3881, invalid=0.0548\n",
            "\n",
            "Evaluate data in 3.21 seconds!\n",
            "Evaluate data in 5.19 seconds!\n",
            "FitlogCallback evaluation on data-test:\n",
            "Seq2SeqSpanMetric: triple_f=59.230000000000004, triple_rec=56.93, triple_pre=61.72, oe_ae_f=66.53999999999999, oe_ae_rec=63.959999999999994, oe_ae_pre=69.34, ae_sc_f=70.0, ae_sc_rec=69.55, ae_sc_pre=70.46, em=0.4421, invalid=0.0335\n",
            "Evaluation on dev at Epoch 46/50. Step:2622/2850: \n",
            "Seq2SeqSpanMetric: triple_f=55.47, triple_rec=55.06999999999999, triple_pre=55.879999999999995, oe_ae_f=62.19, oe_ae_rec=61.739999999999995, oe_ae_pre=62.64999999999999, ae_sc_f=68.99, ae_sc_rec=70.27, ae_sc_pre=67.75, em=0.3973, invalid=0.0502\n",
            "\n",
            "Evaluate data in 3.24 seconds!\n",
            "Evaluate data in 4.41 seconds!\n",
            "FitlogCallback evaluation on data-test:\n",
            "Seq2SeqSpanMetric: triple_f=59.38, triple_rec=56.75, triple_pre=62.27, oe_ae_f=66.73, oe_ae_rec=63.77, oe_ae_pre=69.98, ae_sc_f=69.5, ae_sc_rec=68.89999999999999, ae_sc_pre=70.11, em=0.4512, invalid=0.0366\n",
            "Evaluation on dev at Epoch 47/50. Step:2679/2850: \n",
            "Seq2SeqSpanMetric: triple_f=55.85, triple_rec=55.36, triple_pre=56.34, oe_ae_f=62.28, oe_ae_rec=61.739999999999995, oe_ae_pre=62.83, ae_sc_f=69.65, ae_sc_rec=70.95, ae_sc_pre=68.4, em=0.411, invalid=0.0457\n",
            "\n",
            "Evaluate data in 3.26 seconds!\n",
            "Evaluate data in 4.5 seconds!\n",
            "FitlogCallback evaluation on data-test:\n",
            "Seq2SeqSpanMetric: triple_f=59.230000000000004, triple_rec=56.93, triple_pre=61.72, oe_ae_f=66.53999999999999, oe_ae_rec=63.959999999999994, oe_ae_pre=69.34, ae_sc_f=69.92, ae_sc_rec=69.55, ae_sc_pre=70.30999999999999, em=0.436, invalid=0.0366\n",
            "Evaluation on dev at Epoch 48/50. Step:2736/2850: \n",
            "Seq2SeqSpanMetric: triple_f=55.31, triple_rec=55.06999999999999, triple_pre=55.559999999999995, oe_ae_f=62.01, oe_ae_rec=61.739999999999995, oe_ae_pre=62.28, ae_sc_f=68.76, ae_sc_rec=70.27, ae_sc_pre=67.31, em=0.3973, invalid=0.0457\n",
            "\n",
            "Evaluate data in 3.32 seconds!\n",
            "Evaluate data in 4.42 seconds!\n",
            "FitlogCallback evaluation on data-test:\n",
            "Seq2SeqSpanMetric: triple_f=58.43000000000001, triple_rec=56.379999999999995, triple_pre=60.64000000000001, oe_ae_f=65.9, oe_ae_rec=63.59, oe_ae_pre=68.39, ae_sc_f=70.22, ae_sc_rec=69.76, ae_sc_pre=70.67999999999999, em=0.4299, invalid=0.0305\n",
            "Evaluation on dev at Epoch 49/50. Step:2793/2850: \n",
            "Seq2SeqSpanMetric: triple_f=55.26, triple_rec=54.779999999999994, triple_pre=55.75, oe_ae_f=61.99, oe_ae_rec=61.45, oe_ae_pre=62.53999999999999, ae_sc_f=69.1, ae_sc_rec=70.27, ae_sc_pre=67.97, em=0.3927, invalid=0.0502\n",
            "\n",
            "Evaluate data in 3.36 seconds!\n",
            "Evaluate data in 4.49 seconds!\n",
            "FitlogCallback evaluation on data-test:\n",
            "Seq2SeqSpanMetric: triple_f=58.29, triple_rec=56.19, triple_pre=60.56, oe_ae_f=65.96, oe_ae_rec=63.59, oe_ae_pre=68.53, ae_sc_f=70.0, ae_sc_rec=69.55, ae_sc_pre=70.46, em=0.4329, invalid=0.0305\n",
            "Evaluation on dev at Epoch 50/50. Step:2850/2850: \n",
            "Seq2SeqSpanMetric: triple_f=55.26, triple_rec=54.779999999999994, triple_pre=55.75, oe_ae_f=61.99, oe_ae_rec=61.45, oe_ae_pre=62.53999999999999, ae_sc_f=69.1, ae_sc_rec=70.27, ae_sc_pre=67.97, em=0.3927, invalid=0.0502\n",
            "\n",
            "                                                                  \n",
            "In Epoch:42/Step:2394, got best dev performance:\n",
            "Seq2SeqSpanMetric: triple_f=56.85, triple_rec=56.52, triple_pre=57.18, oe_ae_f=63.849999999999994, oe_ae_rec=63.480000000000004, oe_ae_pre=64.22, ae_sc_f=69.32000000000001, ae_sc_rec=70.61, ae_sc_pre=68.08, em=0.411, invalid=0.0365\n"
          ]
        }
      ]
    },
    {
      "cell_type": "code",
      "source": [
        "!nvidia-smi"
      ],
      "metadata": {
        "colab": {
          "base_uri": "https://localhost:8080/"
        },
        "id": "4SrIgrX6YgOX",
        "outputId": "fbd154db-7c5c-458a-89d4-b484d8c1a863"
      },
      "execution_count": 1,
      "outputs": [
        {
          "output_type": "stream",
          "name": "stdout",
          "text": [
            "Sun Jun  5 05:41:55 2022       \n",
            "+-----------------------------------------------------------------------------+\n",
            "| NVIDIA-SMI 460.32.03    Driver Version: 460.32.03    CUDA Version: 11.2     |\n",
            "|-------------------------------+----------------------+----------------------+\n",
            "| GPU  Name        Persistence-M| Bus-Id        Disp.A | Volatile Uncorr. ECC |\n",
            "| Fan  Temp  Perf  Pwr:Usage/Cap|         Memory-Usage | GPU-Util  Compute M. |\n",
            "|                               |                      |               MIG M. |\n",
            "|===============================+======================+======================|\n",
            "|   0  Tesla T4            Off  | 00000000:00:04.0 Off |                    0 |\n",
            "| N/A   50C    P8     9W /  70W |      0MiB / 15109MiB |      0%      Default |\n",
            "|                               |                      |                  N/A |\n",
            "+-------------------------------+----------------------+----------------------+\n",
            "                                                                               \n",
            "+-----------------------------------------------------------------------------+\n",
            "| Processes:                                                                  |\n",
            "|  GPU   GI   CI        PID   Type   Process name                  GPU Memory |\n",
            "|        ID   ID                                                   Usage      |\n",
            "|=============================================================================|\n",
            "|  No running processes found                                                 |\n",
            "+-----------------------------------------------------------------------------+\n"
          ]
        }
      ]
    }
  ]
}